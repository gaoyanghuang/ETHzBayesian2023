{
 "cells": [
  {
   "cell_type": "code",
   "execution_count": 15,
   "metadata": {},
   "outputs": [
    {
     "name": "stderr",
     "output_type": "stream",
     "text": [
      "<ipython-input-15-d5375c7eb4cc>:58: FutureWarning: The frame.append method is deprecated and will be removed from pandas in a future version. Use pandas.concat instead.\n",
      "  mydata_all = mydata_OCD.append(mydata_HC, ignore_index=True)\n"
     ]
    }
   ],
   "source": [
    "\n",
    "import os\n",
    "import pylab\n",
    "import scipy as sy\n",
    "import pandas as pd\n",
    "import numpy as np\n",
    "import matplotlib.pyplot as plt\n",
    "import glob\n",
    "from psychopy import data, gui, core\n",
    "from psychopy.tools.filetools import fromFile\n",
    "from scipy.optimize import curve_fit \n",
    "from scipy import stats\n",
    "from matplotlib.pyplot import figure\n",
    "\n",
    "# /Users/apple/Desktop/ETHz/Bayesian2023\n",
    "# append all csv file\n",
    "path = r'/Users/apple/Desktop/ETHz/Bayesian2023/dataset/OCD'    # use path for csv files\n",
    "all_files = glob.glob(os.path.join(path, \"*.csv\"))     \n",
    "mydata_OCD = pd.DataFrame()\n",
    "name_list_OCD = []\n",
    "for f in all_files:\n",
    "  \n",
    "    name = f.split('_')[-1]\n",
    "    name = name.split('.')[0]\n",
    "    name_list_OCD.append(name)\n",
    "    df = pd.read_csv(f)\n",
    "    df['individual']=name\n",
    "    mydata_OCD   = pd.concat([mydata_OCD,df], ignore_index=True)\n",
    "    \n",
    "# indiv = pd.DataFrame()\n",
    "# indiv = pd.concat([indiv,mydata_OCD['individual']],ignore_index=True)\n",
    "\n",
    "group = ['OCD'] * len(mydata_OCD)\n",
    "mydata_OCD['group']=group\n",
    "\n",
    "\n",
    "\n",
    "path = r'/Users/apple/Desktop/ETHz/Bayesian2023/dataset/HC'    # use path for csv files\n",
    "all_files = glob.glob(os.path.join(path, \"*.csv\"))     \n",
    "mydata_HC = pd.DataFrame()\n",
    "name_list_HC = []\n",
    "coh = [0.016,0.032,0.064,0.128,0.256,0.512]\n",
    "\n",
    "for f in all_files:\n",
    "  \n",
    "    name = f.split('_')[-1]\n",
    "    name = name.split('.')[0]\n",
    "    name_list_HC.append(name)\n",
    "    df = pd.read_csv(f)\n",
    "    df['individual']=name\n",
    "    mydata_HC   = pd.concat([mydata_HC,df], ignore_index=True)\n",
    "    \n",
    "# indiv = pd.DataFrame()\n",
    "# indiv = pd.concat([indiv,mydata_HC['individual']],ignore_index=True)\n",
    "\n",
    "group = ['HC'] * len(mydata_HC)\n",
    "mydata_HC['group']=group\n",
    "\n",
    "mydata_all = mydata_OCD.append(mydata_HC, ignore_index=True)\n",
    "name_list_all = name_list_OCD+name_list_HC\n",
    "\n",
    "mydata_all.to_csv('/Users/apple/Desktop/ETHz/Bayesian2023/dataset/all_10_10.csv')"
   ]
  },
  {
   "cell_type": "code",
   "execution_count": 14,
   "metadata": {},
   "outputs": [
    {
     "data": {
      "text/plain": [
       "<bound method NDFrame.tail of       trial  thistrial_1  thistrial_2  thistrial_3  thistrial_4  thiscoh  \\\n",
       "0         1            3            2            1            2    0.032   \n",
       "1         2            4            3            2            1    0.064   \n",
       "2         3            3            3            1            1    0.064   \n",
       "3         4            5            6            2            1    0.512   \n",
       "4         5            2            4            2            2    0.128   \n",
       "...     ...          ...          ...          ...          ...      ...   \n",
       "2395    116            5            6            2            2    0.512   \n",
       "2396    117            1            4            1            1    0.128   \n",
       "2397    118            2            5            1            1    0.256   \n",
       "2398    119            4            6            2            1    0.512   \n",
       "2399    120            4            2            2            2    0.032   \n",
       "\n",
       "      thisori   thisdur  res1_1    res1_2  conf1_1   conf1_2  res2_1  \\\n",
       "0           1  0.935414       1  0.840776        3  0.908471       1   \n",
       "1           2  1.809406       2  0.741978        3  0.756239       1   \n",
       "2           1  0.935414       1  0.928523        3  1.501410       1   \n",
       "3           2  3.500000       2  0.354148        4  0.556072       2   \n",
       "4           2  0.483584       2  0.603161        4  1.795552       2   \n",
       "...       ...       ...     ...       ...      ...       ...     ...   \n",
       "2395        2  3.500000       2  0.350493        4  0.264536       2   \n",
       "2396        1  0.250000       2  0.566348        4  0.863969       1   \n",
       "2397        1  0.483584       1  0.603547        4  0.234864       1   \n",
       "2398        2  1.809406       2  0.368676        4  0.585646       2   \n",
       "2399        2  1.809406       2  1.272039        2  0.605324       2   \n",
       "\n",
       "        res2_2  conf2_1   conf2_2  judge1  judge2  individual group  \n",
       "0     0.832785        4  0.758409       1       1  OCD-55 WSY   OCD  \n",
       "1     2.931594        2  1.149006       1       0  OCD-55 WSY   OCD  \n",
       "2     2.614177        3  1.024132       1       1  OCD-55 WSY   OCD  \n",
       "3     0.803105        4  0.851472       1       1  OCD-55 WSY   OCD  \n",
       "4     0.817906        4  0.536608       1       1  OCD-55 WSY   OCD  \n",
       "...        ...      ...       ...     ...     ...         ...   ...  \n",
       "2395  0.598539        4  0.240304       1       1   HC002-ZJJ    HC  \n",
       "2396  4.098749        3  0.963374       0       1   HC002-ZJJ    HC  \n",
       "2397  0.299298        4  0.224161       1       1   HC002-ZJJ    HC  \n",
       "2398  0.465653        4  0.282123       1       1   HC002-ZJJ    HC  \n",
       "2399  1.248759        3  0.341530       1       1   HC002-ZJJ    HC  \n",
       "\n",
       "[2400 rows x 20 columns]>"
      ]
     },
     "execution_count": 14,
     "metadata": {},
     "output_type": "execute_result"
    }
   ],
   "source": [
    "mydata_all.tail"
   ]
  }
 ],
 "metadata": {
  "kernelspec": {
   "display_name": "Python 3",
   "language": "python",
   "name": "python3"
  },
  "language_info": {
   "codemirror_mode": {
    "name": "ipython",
    "version": 3
   },
   "file_extension": ".py",
   "mimetype": "text/x-python",
   "name": "python",
   "nbconvert_exporter": "python",
   "pygments_lexer": "ipython3",
   "version": "3.8.5"
  }
 },
 "nbformat": 4,
 "nbformat_minor": 4
}
